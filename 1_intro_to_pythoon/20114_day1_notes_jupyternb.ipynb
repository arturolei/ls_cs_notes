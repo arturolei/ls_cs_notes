{
 "cells": [
  {
   "cell_type": "markdown",
   "metadata": {},
   "source": [
    "# Lambda School CS Day 1: Introduction to Python and Guided Project"
   ]
  },
  {
   "cell_type": "markdown",
   "metadata": {},
   "source": [
    "## Relevant Links:\n",
    "- TK Material: [https://learn.lambdaschool.com/cs/module/recay2erzDlYUPSeO](https://learn.lambdaschool.com/cs/module/recay2erzDlYUPSeO)\n",
    "\n",
    "## Preamble\n",
    "I will be using Jupyter Notebook to take notes if possible. Else, I guess I'll type things raw in VSCode. "
   ]
  },
  {
   "cell_type": "code",
   "execution_count": null,
   "metadata": {},
   "outputs": [],
   "source": []
  }
 ],
 "metadata": {
  "kernelspec": {
   "display_name": "Python 3",
   "language": "python",
   "name": "python3"
  },
  "language_info": {
   "codemirror_mode": {
    "name": "ipython",
    "version": 3
   },
   "file_extension": ".py",
   "mimetype": "text/x-python",
   "name": "python",
   "nbconvert_exporter": "python",
   "pygments_lexer": "ipython3",
   "version": "3.7.2"
  }
 },
 "nbformat": 4,
 "nbformat_minor": 2
}
